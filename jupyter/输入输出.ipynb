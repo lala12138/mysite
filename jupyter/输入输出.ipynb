{
 "cells": [
  {
   "cell_type": "markdown",
   "metadata": {},
   "source": [
    "- 输出print可选参数sep\n",
    "  - print(\"partA\",\"partB\",sep=\"**\")\n",
    "- 输出对齐\n",
    "  - print(\"{0:<10,.2f}\".format(num))\n",
    "  - print(\"{0:<10,.2%}\".format(num))"
   ]
  }
 ],
 "metadata": {
  "kernelspec": {
   "display_name": "Python 3",
   "language": "python",
   "name": "python3"
  },
  "language_info": {
   "codemirror_mode": {
    "name": "ipython",
    "version": 3
   },
   "file_extension": ".py",
   "mimetype": "text/x-python",
   "name": "python",
   "nbconvert_exporter": "python",
   "pygments_lexer": "ipython3",
   "version": "3.7.0"
  }
 },
 "nbformat": 4,
 "nbformat_minor": 2
}
