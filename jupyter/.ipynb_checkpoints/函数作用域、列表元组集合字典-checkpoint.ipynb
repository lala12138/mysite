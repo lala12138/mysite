{
 "cells": [
  {
   "cell_type": "markdown",
   "metadata": {},
   "source": [
    "# 变量作用域\n",
    "\n",
    "- 变量由作用范围限制\n",
    "\n",
    "- 分类：按照作用域分类\n",
    "   - 全局变量\n",
    "   - 局部变量\n",
    "   \n",
    "- 提升局部变量为全局变量"
   ]
  },
  {
   "cell_type": "code",
   "execution_count": 4,
   "metadata": {},
   "outputs": [
    {
     "name": "stdout",
     "output_type": "stream",
     "text": [
      "100\n"
     ]
    }
   ],
   "source": [
    "\n",
    "def fun():\n",
    "    global b\n",
    "    b = 100\n",
    "    a = 99\n",
    "\n",
    "fun()\n",
    "print(b)"
   ]
  },
  {
   "cell_type": "code",
   "execution_count": 5,
   "metadata": {},
   "outputs": [
    {
     "ename": "NameError",
     "evalue": "name 'a' is not defined",
     "output_type": "error",
     "traceback": [
      "\u001b[1;31m---------------------------------------------------------------------------\u001b[0m",
      "\u001b[1;31mNameError\u001b[0m                                 Traceback (most recent call last)",
      "\u001b[1;32m<ipython-input-5-268ac76a9910>\u001b[0m in \u001b[0;36m<module>\u001b[1;34m()\u001b[0m\n\u001b[0;32m      6\u001b[0m \u001b[1;33m\u001b[0m\u001b[0m\n\u001b[0;32m      7\u001b[0m \u001b[0mfun\u001b[0m\u001b[1;33m(\u001b[0m\u001b[1;33m)\u001b[0m\u001b[1;33m\u001b[0m\u001b[0m\n\u001b[1;32m----> 8\u001b[1;33m \u001b[0mprint\u001b[0m\u001b[1;33m(\u001b[0m\u001b[0ma\u001b[0m\u001b[1;33m)\u001b[0m\u001b[1;33m\u001b[0m\u001b[0m\n\u001b[0m",
      "\u001b[1;31mNameError\u001b[0m: name 'a' is not defined"
     ]
    }
   ],
   "source": [
    "\n",
    "def fun():\n",
    "    global b\n",
    "    b = 100\n",
    "    a = 99\n",
    "    \n",
    "fun()\n",
    "print(a)"
   ]
  },
  {
   "cell_type": "markdown",
   "metadata": {},
   "source": [
    " # globals(), locals()函数\n",
    " \n",
    " - 通过上述两个函数来显示全局变量和局部变量\n",
    " \n",
    " - eval()将字符串当代码来执行\n",
    " \n",
    " - exec()功能和eval()类似，但不返回结果"
   ]
  },
  {
   "cell_type": "code",
   "execution_count": 9,
   "metadata": {},
   "outputs": [
    {
     "name": "stdout",
     "output_type": "stream",
     "text": [
      "x+y: 300\n",
      "300\n",
      "None\n"
     ]
    }
   ],
   "source": [
    "#exec示例\n",
    "x = 100\n",
    "y = 200\n",
    "z1 = x + y\n",
    "z2 = exec(\"print('x+y:',x+y)\")\n",
    "print(z1)\n",
    "print(z2)"
   ]
  },
  {
   "cell_type": "markdown",
   "metadata": {},
   "source": [
    "# Fibonacci数列"
   ]
  },
  {
   "cell_type": "code",
   "execution_count": 2,
   "metadata": {},
   "outputs": [
    {
     "name": "stdout",
     "output_type": "stream",
     "text": [
      "enter the n:7\n",
      "13\n"
     ]
    }
   ],
   "source": [
    "def main():\n",
    "    n=int(input(\"enter the n:\"))\n",
    "    print(fibonacci(n))\n",
    "\n",
    "def fibonacci(n):\n",
    "    if n == 1:\n",
    "        return 1\n",
    "    elif n == 2:\n",
    "        return 1\n",
    "    else:\n",
    "        return fibonacci(n-1) + fibonacci(n-2)\n",
    "\n",
    "main()"
   ]
  },
  {
   "cell_type": "markdown",
   "metadata": {},
   "source": [
    "# list操作"
   ]
  },
  {
   "cell_type": "code",
   "execution_count": 5,
   "metadata": {},
   "outputs": [
    {
     "name": "stdout",
     "output_type": "stream",
     "text": [
      "[2, 4]\n",
      "[]\n",
      "[5, 6]\n",
      "[7, 6]\n"
     ]
    }
   ],
   "source": [
    "# 列表索引[a:b:2]a到b，隔一个输出\n",
    "\n",
    "l = [1,2,3,4,5,6,7,8]\n",
    "print(l[1:5:2])\n",
    "\n",
    "# 列表索引可以超出范围，超出的不作考虑\n",
    "\n",
    "# 切片默认从左到右截取\n",
    "print(l[-2:-4])\n",
    "\n",
    "print(l[-4:-2])\n",
    "# 或者使用负数步长参数，但输出结果会是从右到左的\n",
    "print(l[-2:-4:-1])"
   ]
  },
  {
   "cell_type": "markdown",
   "metadata": {},
   "source": [
    "# 切片操作是生成一个新的list\n",
    "- 内置函数id，负责显示一个变量或者数据的唯一编号"
   ]
  },
  {
   "cell_type": "code",
   "execution_count": 6,
   "metadata": {
    "scrolled": false
   },
   "outputs": [
    {
     "name": "stdout",
     "output_type": "stream",
     "text": [
      "10655905480\n",
      "10655763080\n",
      "10655905480\n"
     ]
    }
   ],
   "source": [
    "# id函数举例\n",
    "# 通过id函数可以看出切片操作是生成一个新的数据还是使用原来的数据\n",
    "l = [1,2,3,4,5,6,7,8]\n",
    "ll = l[:]\n",
    "lll = l\n",
    "\n",
    "print(id(l))\n",
    "print(id(ll))\n",
    "print(id(lll))"
   ]
  },
  {
   "cell_type": "markdown",
   "metadata": {},
   "source": [
    "# 汉诺塔问题\n",
    "- 规则\n",
    "  - 每次移动一个盘子\n",
    "  - 任何时候大盘子要在小盘子下面\n",
    "- 递归方法"
   ]
  },
  {
   "cell_type": "code",
   "execution_count": 15,
   "metadata": {
    "scrolled": true
   },
   "outputs": [
    {
     "name": "stdout",
     "output_type": "stream",
     "text": [
      "enter the hano number n:1\n",
      "A -> C\n"
     ]
    }
   ],
   "source": [
    "def main():\n",
    "    n=int(input(\"enter the hano number n:\"))\n",
    "    hano(n,'A','B','C')\n",
    "\n",
    "def hano(n,a,b,c):\n",
    "    # n表示有n个盘子\n",
    "    if n == 1:\n",
    "        print(a,\"->\",c)\n",
    "    elif n == 2:\n",
    "        print(a,\"->\",b)\n",
    "        print(a,\"->\",c)\n",
    "        print(b,\"->\",c)\n",
    "    else:\n",
    "        hano(n-1,a,c,b)\n",
    "        print(a,\"->\",c)\n",
    "        hano(n-1,b,a,c)\n",
    "    \n",
    "main()"
   ]
  },
  {
   "cell_type": "markdown",
   "metadata": {},
   "source": [
    "# 列表操作\n",
    "- len\n",
    "- max\n",
    "- min\n",
    "- sum\n",
    "- count\n",
    "  - list.count(a) 在列表中a出现的次数\n",
    "- index\n",
    "  - list.index(a) 在列表中首次出现的索引位置\n",
    "- reverse\n",
    "  - list.reverse() 列表元素的逆序\n",
    "- clear\n",
    "  - list.clear() 清空列表\n",
    "- append\n",
    "- extend\n",
    "  - list.extend(list2) 在列表list末端插入list2中的所有元素\n",
    "- del\n",
    "  - del list[a] 删除列表中索引a位置的元素\n",
    "- remove\n",
    "  - list.remove(a) 移除一个对象的首次出现\n",
    "- insert\n",
    "  - list.insert(a,str) 在索引a位置上插入新元素str\n",
    "- +\n",
    "  - listA + listB 将两个列表连接\n",
    "- *\n",
    "  - list * a 将列表重复a次\n",
    "- split方法\n",
    "  - print(\"a,b,c\".split(\",\")) 结果输出为['a','b','c']\n",
    "- join方法\n",
    "  - print(\",\".join(list)) 输出结果为将list中的元素按照指定的间隔符输出\n",
    "- 浅拷贝copy\n",
    "  - list.copy() 只拷贝一层内容"
   ]
  },
  {
   "cell_type": "code",
   "execution_count": 5,
   "metadata": {},
   "outputs": [
    {
     "name": "stdout",
     "output_type": "stream",
     "text": [
      "311642212424\n",
      "311642532296\n",
      "311593689224\n",
      "311593689224\n"
     ]
    }
   ],
   "source": [
    "a = [2,3,4,[1,2,3]]\n",
    "b = a.copy()\n",
    "print(id(a))\n",
    "print(id(b))\n",
    "print(id(a[3]))\n",
    "print(id(b[3]))"
   ]
  },
  {
   "cell_type": "markdown",
   "metadata": {},
   "source": [
    "# 返回布尔值类型\n",
    "- str.isdigit() 判断所有字符是否都是数字\n",
    "- str.isalpha() 判断所有字符是否都是字母\n",
    "- str.isalnum() 判断所有字符都是字母表上的字母或数字\n",
    "- str.islower() 判断str至少有一个字母字符，且所有的字母字符都是小写\n",
    "- str.isupper() 判断str至少有一个字母字符，且所有的字母字符都是大写\n",
    "- str.isspace() 判断是否str仅含有空白字符\n",
    "- isinstance(item,datatype) 判断item是否为datatype的形式"
   ]
  },
  {
   "cell_type": "markdown",
   "metadata": {},
   "source": [
    "# 列表变异"
   ]
  },
  {
   "cell_type": "code",
   "execution_count": 2,
   "metadata": {},
   "outputs": [
    {
     "name": "stdout",
     "output_type": "stream",
     "text": [
      "one -> 1\n",
      "two -> 2\n",
      "three -> 3\n"
     ]
    }
   ],
   "source": [
    "A = [['one',1],['two',2],['three',3]]\n",
    "for k,v in A:\n",
    "    print(k,\"->\",v)"
   ]
  },
  {
   "cell_type": "markdown",
   "metadata": {},
   "source": [
    "# for 循环嵌套"
   ]
  },
  {
   "cell_type": "code",
   "execution_count": 4,
   "metadata": {},
   "outputs": [
    {
     "name": "stdout",
     "output_type": "stream",
     "text": [
      "[3, 4, 5, 4, 5, 6, 5, 6, 7]\n",
      "3\n",
      "4\n",
      "5\n",
      "4\n",
      "5\n",
      "6\n",
      "5\n",
      "6\n",
      "7\n"
     ]
    }
   ],
   "source": [
    "a = [1,2,3]\n",
    "b = [2,3,4]\n",
    "c=[m + n for m in a for n in b]\n",
    "print(c)\n",
    "for m in a:\n",
    "    for n in b:\n",
    "        print(m + n)"
   ]
  },
  {
   "cell_type": "markdown",
   "metadata": {},
   "source": [
    "# 传值和传址\n",
    "- 简单内容->传值\n",
    "- 复杂内容->传址"
   ]
  },
  {
   "cell_type": "markdown",
   "metadata": {},
   "source": [
    "# tuple元组\n",
    "- 元组的特性\n",
    "  - 除了内容不可修改，列表其他特性元组都具备"
   ]
  },
  {
   "cell_type": "code",
   "execution_count": 6,
   "metadata": {},
   "outputs": [
    {
     "name": "stdout",
     "output_type": "stream",
     "text": [
      "<class 'int'>\n",
      "<class 'tuple'>\n"
     ]
    }
   ],
   "source": [
    "t = (1)\n",
    "print(type(t))\n",
    "t1 = (1,)\n",
    "print(type(t1))"
   ]
  },
  {
   "cell_type": "code",
   "execution_count": 10,
   "metadata": {},
   "outputs": [
    {
     "name": "stdout",
     "output_type": "stream",
     "text": [
      "(1, 2, 3)\n",
      "311668923848\n",
      "(1, 2, 3, 1, 2, 3, 1, 2, 3)\n",
      "311667916256\n"
     ]
    },
    {
     "ename": "TypeError",
     "evalue": "'tuple' object does not support item assignment",
     "output_type": "error",
     "traceback": [
      "\u001b[1;31m---------------------------------------------------------------------------\u001b[0m",
      "\u001b[1;31mTypeError\u001b[0m                                 Traceback (most recent call last)",
      "\u001b[1;32m<ipython-input-10-1bf2c9a45e7e>\u001b[0m in \u001b[0;36m<module>\u001b[1;34m()\u001b[0m\n\u001b[0;32m      7\u001b[0m \u001b[0mprint\u001b[0m\u001b[1;33m(\u001b[0m\u001b[0mid\u001b[0m\u001b[1;33m(\u001b[0m\u001b[0mt\u001b[0m\u001b[1;33m)\u001b[0m\u001b[1;33m)\u001b[0m\u001b[1;33m\u001b[0m\u001b[0m\n\u001b[0;32m      8\u001b[0m \u001b[1;33m\u001b[0m\u001b[0m\n\u001b[1;32m----> 9\u001b[1;33m \u001b[0mt\u001b[0m\u001b[1;33m[\u001b[0m\u001b[1;36m2\u001b[0m\u001b[1;33m]\u001b[0m\u001b[1;33m=\u001b[0m\u001b[1;36m100\u001b[0m\u001b[1;33m\u001b[0m\u001b[0m\n\u001b[0m",
      "\u001b[1;31mTypeError\u001b[0m: 'tuple' object does not support item assignment"
     ]
    }
   ],
   "source": [
    "# 元组内容不可修改，但可以创建新的元组\n",
    "t = (1,2,3)\n",
    "print(t)\n",
    "print(id(t))\n",
    "t = t * 3\n",
    "print(t)\n",
    "print(id(t))\n",
    "\n",
    "t[2]=100"
   ]
  },
  {
   "cell_type": "markdown",
   "metadata": {},
   "source": [
    "# 元组的函数\n",
    "- 除了修改元组内容的函数，其他基本和list通用\n",
    "\n",
    "- 元组变量交换法\n",
    "  - 两个变量交换值"
   ]
  },
  {
   "cell_type": "code",
   "execution_count": 12,
   "metadata": {},
   "outputs": [
    {
     "name": "stdout",
     "output_type": "stream",
     "text": [
      "1\n",
      "2\n",
      "********************\n",
      "2\n",
      "1\n"
     ]
    }
   ],
   "source": [
    "a = 1\n",
    "b = 2\n",
    "print(a)\n",
    "print(b)\n",
    "print(\"*\"*20)\n",
    "a,b = b,a\n",
    "print(a)\n",
    "print(b)"
   ]
  },
  {
   "cell_type": "markdown",
   "metadata": {},
   "source": [
    "# set集合\n",
    "- 集合特点：\n",
    "  - 无序，即无法使用索引和切片\n",
    "  - 元素唯一，可用于排除重复数据"
   ]
  },
  {
   "cell_type": "code",
   "execution_count": 13,
   "metadata": {},
   "outputs": [
    {
     "name": "stdout",
     "output_type": "stream",
     "text": [
      "<class 'set'>\n",
      "set()\n",
      "********************\n",
      "<class 'dict'>\n",
      "{}\n"
     ]
    }
   ],
   "source": [
    "# 定义空集合\n",
    "s = set()\n",
    "print(type(s))\n",
    "print(s)\n",
    "print(\"*\" * 20)\n",
    "\n",
    "# 若只用大括号，则定义的为dict类型\n",
    "d = {}\n",
    "print(type(d))\n",
    "print(d)"
   ]
  },
  {
   "cell_type": "markdown",
   "metadata": {},
   "source": [
    "# 集合的函数\n",
    "- add: 向集合内添加元素\n",
    "  - set.add(a)\n",
    "- clear\n",
    "  - set.clear()'\n",
    "- copy\n",
    "- remove\n",
    "- discard: 移除集合中指定的值，但是若指定移除集合中不存在的值不会报错（remove会产生报错）\n",
    "- pop: 随机删除集合中的元素\n",
    "  - set.pop()\n",
    "- intersection: 交集\n",
    "- difference：差集\n",
    "- union: 并集\n",
    "- issubset： 检查一个集合是否为另一个集合的子集\n",
    "- issubperset：检查一个集合是否为另一个结合的超集"
   ]
  },
  {
   "cell_type": "code",
   "execution_count": 14,
   "metadata": {},
   "outputs": [
    {
     "name": "stdout",
     "output_type": "stream",
     "text": [
      "{4, 5, 6, 7, 23}\n"
     ]
    },
    {
     "ename": "KeyError",
     "evalue": "1000",
     "output_type": "error",
     "traceback": [
      "\u001b[1;31m---------------------------------------------------------------------------\u001b[0m",
      "\u001b[1;31mKeyError\u001b[0m                                  Traceback (most recent call last)",
      "\u001b[1;32m<ipython-input-14-ef2c6a371d7d>\u001b[0m in \u001b[0;36m<module>\u001b[1;34m()\u001b[0m\n\u001b[0;32m      2\u001b[0m \u001b[0ms\u001b[0m\u001b[1;33m.\u001b[0m\u001b[0mdiscard\u001b[0m\u001b[1;33m(\u001b[0m\u001b[1;36m1000\u001b[0m\u001b[1;33m)\u001b[0m\u001b[1;33m\u001b[0m\u001b[0m\n\u001b[0;32m      3\u001b[0m \u001b[0mprint\u001b[0m\u001b[1;33m(\u001b[0m\u001b[0ms\u001b[0m\u001b[1;33m)\u001b[0m\u001b[1;33m\u001b[0m\u001b[0m\n\u001b[1;32m----> 4\u001b[1;33m \u001b[0ms\u001b[0m\u001b[1;33m.\u001b[0m\u001b[0mremove\u001b[0m\u001b[1;33m(\u001b[0m\u001b[1;36m1000\u001b[0m\u001b[1;33m)\u001b[0m\u001b[1;33m\u001b[0m\u001b[0m\n\u001b[0m",
      "\u001b[1;31mKeyError\u001b[0m: 1000"
     ]
    }
   ],
   "source": [
    "# remove和discard的例子\n",
    "s = {23,4,5,6,7}\n",
    "s.discard(1000)\n",
    "print(s)\n",
    "s.remove(1000)"
   ]
  },
  {
   "cell_type": "code",
   "execution_count": 15,
   "metadata": {},
   "outputs": [
    {
     "name": "stdout",
     "output_type": "stream",
     "text": [
      "{5, 6, 7, 23}\n"
     ]
    }
   ],
   "source": [
    "# pop例子\n",
    "s.pop()\n",
    "print(s)"
   ]
  },
  {
   "cell_type": "code",
   "execution_count": 16,
   "metadata": {},
   "outputs": [
    {
     "name": "stdout",
     "output_type": "stream",
     "text": [
      "{5, 6}\n",
      "{5, 6, 7, 8, 9}\n"
     ]
    },
    {
     "data": {
      "text/plain": [
       "False"
      ]
     },
     "execution_count": 16,
     "metadata": {},
     "output_type": "execute_result"
    }
   ],
   "source": [
    "s1 = {1,2,3,4,5,6}\n",
    "s2 = {5,6,7,8,9}\n",
    "\n",
    "s_1 = s1.intersection(s2)\n",
    "print(s_1)\n",
    "\n",
    "s_2 = s1.difference(s2)\n",
    "print(s2)\n",
    "\n",
    "s1.issubset(s2)"
   ]
  },
  {
   "cell_type": "markdown",
   "metadata": {},
   "source": [
    "## frozen set: 冰冻集合\n",
    "- 冰冻集合就是不可以进行任何修改的集合"
   ]
  },
  {
   "cell_type": "code",
   "execution_count": 17,
   "metadata": {},
   "outputs": [
    {
     "name": "stdout",
     "output_type": "stream",
     "text": [
      "<class 'frozenset'>\n",
      "frozenset()\n"
     ]
    }
   ],
   "source": [
    "s = frozenset()\n",
    "print(type(s))\n",
    "print(s)"
   ]
  },
  {
   "cell_type": "markdown",
   "metadata": {},
   "source": [
    "# dict字典\n",
    "- 以键值对形式出现的数据"
   ]
  },
  {
   "cell_type": "code",
   "execution_count": 19,
   "metadata": {},
   "outputs": [
    {
     "name": "stdout",
     "output_type": "stream",
     "text": [
      "{'one': 1, 'two': 2, 'three': 3}\n",
      "{'one': 1, 'two': 2, 'three': 3}\n",
      "{'one': 1, 'two': 2, 'three': 3}\n",
      "{'one': 1, 'two': 2, 'three': 3}\n"
     ]
    }
   ],
   "source": [
    "# 利用关键字创建字典\n",
    "d = {\"one\":1,\"two\":2,\"three\":3}\n",
    "print(d)\n",
    "\n",
    "d = dict({\"one\":1,\"two\":2,\"three\":3})\n",
    "print(d)\n",
    "\n",
    "d = dict(one=1,two=2,three=3)\n",
    "print(d)\n",
    "\n",
    "d = dict([(\"one\",1),(\"two\",2),(\"three\",3)])\n",
    "print(d)"
   ]
  },
  {
   "cell_type": "markdown",
   "metadata": {},
   "source": [
    "# 字典的特征\n",
    "- 字典是无序序列，没有索引和切片\n",
    "- key：必须是可哈希的值，比如int,str,float,tuple,list,set和dict不行\n",
    "- value: 任何值"
   ]
  },
  {
   "cell_type": "markdown",
   "metadata": {},
   "source": [
    "# 字典操作\n",
    "- len(d)\n",
    "- x in d : x是d中的一个键，则返回True\n",
    "- x:y in d : 若x:y是d中的一个元素，则返回True\n",
    "- d[key] = value\n",
    "- d.get(key,default): 若key不是字典的键，则返回default的值；否则返回key对应的值\n",
    "- list(d.key())/list(d)\n",
    "- list(d.values())\n",
    "- list(d.items()): 返回（key,value）形式的二元组组成的列表\n",
    "- tuple(d)/set(d): 返回字典的键组成的元组/集合\n",
    "- c = dict(d): 创建字典d的一个拷贝\n",
    "- del d[key]: 删除键为key的元素，若没有找到key，则报错\n",
    "- d.clear()\n",
    "- for k in d\n",
    "- d.update(c): 将字典c所有的元素并入字典d；若两个元素中有相同的键，则用c中的值替换d中的值\n",
    "- max(d)/min(d)"
   ]
  },
  {
   "cell_type": "markdown",
   "metadata": {},
   "source": [
    "# 字典生成式"
   ]
  },
  {
   "cell_type": "code",
   "execution_count": 20,
   "metadata": {},
   "outputs": [
    {
     "name": "stdout",
     "output_type": "stream",
     "text": [
      "{'one': 1, 'two': 2, 'three': 3}\n",
      "{'two': 2}\n"
     ]
    }
   ],
   "source": [
    "# 加限制条件的字典生成式\n",
    "d = {\"one\":1,\"two\":2,\"three\":3}\n",
    "print(d)\n",
    "\n",
    "dd = {k:v for k,v in d.items() if v % 2 == 0}\n",
    "print(dd)"
   ]
  },
  {
   "cell_type": "code",
   "execution_count": 21,
   "metadata": {},
   "outputs": [
    {
     "name": "stdout",
     "output_type": "stream",
     "text": [
      "{'one': 'hahah', 'two': 'hahah', 'three': 'hahah'}\n"
     ]
    }
   ],
   "source": [
    "# fromkeys: 使用指定的序列作为键，使用一个值作为字典的所有键的值、\n",
    "l = [\"one\",\"two\",\"three\"]\n",
    "d = dict.fromkeys(l,\"hahah\")\n",
    "print(d)"
   ]
  }
 ],
 "metadata": {
  "kernelspec": {
   "display_name": "Python 3",
   "language": "python",
   "name": "python3"
  },
  "language_info": {
   "codemirror_mode": {
    "name": "ipython",
    "version": 3
   },
   "file_extension": ".py",
   "mimetype": "text/x-python",
   "name": "python",
   "nbconvert_exporter": "python",
   "pygments_lexer": "ipython3",
   "version": "3.7.0"
  }
 },
 "nbformat": 4,
 "nbformat_minor": 2
}
