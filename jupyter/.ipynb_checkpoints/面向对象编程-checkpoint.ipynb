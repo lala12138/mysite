{
 "cells": [
  {
   "cell_type": "markdown",
   "metadata": {},
   "source": [
    "# 面向对象编程\n",
    "- 几个名词\n",
    "  - OO：面向对象\n",
    "  - OOA：面向对象的分析\n",
    "  - OOD：面向对象的设计\n",
    "  - OOI：xxx的实现\n",
    "  - OOP：xxx的编程\n",
    "  - 00A->OOD->OOI：面向对象的实现过程"
   ]
  },
  {
   "cell_type": "markdown",
   "metadata": {},
   "source": [
    "# 类和对象的概念\n",
    "- 类：抽象名词，代表一个集合，共性的事物\n",
    "- 对象：具体的事物，单个个体\n",
    "- 类跟对象的关系\n",
    "  - 一个具象、代表一类事物的某一个个体\n",
    "  - 一个是抽象、代表的是一大类事物\n",
    "- 类中的内容，应该具有两个内容\n",
    "  - 表明事物的特征，叫做属性（变量）\n",
    "  - 表明事物功能或动作，称为成员方法（函数）"
   ]
  },
  {
   "cell_type": "markdown",
   "metadata": {},
   "source": [
    "# 类的基本实现\n",
    "- 类的命名\n",
    "  - 遵守变量命名的规范\n",
    "  - 大驼峰（由一个或者多个单词构成、每个单词首字母大写、单词跟单词直接相连）\n",
    "  - 尽量避开跟系统命名相似的命名\n",
    "- 如何声明一个类\n",
    "  - 必须用class关键字\n",
    "  - 类由属性和方法构成，其他不允许出现\n",
    "  - 成员属性定义可以直接使用变量赋值，如果没有值，可使用None\n",
    "  - 案例 01.py"
   ]
  },
  {
   "cell_type": "code",
   "execution_count": 2,
   "metadata": {},
   "outputs": [
    {
     "name": "stdout",
     "output_type": "stream",
     "text": [
      "<__main__.PythonStudent object at 0x0000006B4790F588>\n",
      "None\n",
      "18\n",
      "Python\n",
      "do homework\n"
     ]
    }
   ],
   "source": [
    "# 01.py\n",
    "# 定义一个学生类，用来形容学生\n",
    "\n",
    "# 定义一个空的类\n",
    "class Student():\n",
    "    # 在定义后必须要有内容，假如不想定义内容，则必须要有pass，否则会报错\n",
    "    pass\n",
    "\n",
    "# 定义一个定义\n",
    "yangzheng = Student()\n",
    "\n",
    "# 再定义一个类，用来描述学python的学生\n",
    "class PythonStudent():\n",
    "    # 用None给不确定的值赋值\n",
    "    name = None\n",
    "    age = 18\n",
    "    course = \"Python\"\n",
    "    \n",
    "    # 行为要用函数来定义，例如做作业\n",
    "    # 注意def dohomework的缩进层次\n",
    "    # 系统默认有一个self的参数\n",
    "    def dohomework(self):\n",
    "        print(\"do homework\")\n",
    "        \n",
    "        # 推荐在函数末尾使用return语句\n",
    "# 实例化一个yueyue的学生，是一个具体的人\n",
    "yangzheng = PythonStudent()\n",
    "print(yangzheng)\n",
    "print(yangzheng.name)\n",
    "print(yangzheng.age)\n",
    "print(yangzheng.course)\n",
    "# 注意成员函数的调用没有传递进入参数\n",
    "yangzheng.dohomework()"
   ]
  },
  {
   "cell_type": "markdown",
   "metadata": {},
   "source": [
    "# 类的额基本实现\n",
    "- 实例化类\n",
    "  - 变量 = 类名()\n",
    "- 访问对象成员\n",
    "  - 使用点操作符\n",
    "    - obj.成员属性名称\n",
    "    - obj.成员方法\n",
    "- 可以通过默认内置变量检查类和对象的所有成员\n",
    "  - 对象所有成员检查\n",
    "        # dict前后各有两个下划线\n",
    "        - obj.__ dict __\n",
    "  - 类所有成员\n",
    "        - class_name.__ dict __"
   ]
  },
  {
   "cell_type": "code",
   "execution_count": 4,
   "metadata": {},
   "outputs": [
    {
     "data": {
      "text/plain": [
       "mappingproxy({'__module__': '__main__',\n",
       "              'name': 'abc',\n",
       "              'age': 18,\n",
       "              '__dict__': <attribute '__dict__' of 'A' objects>,\n",
       "              '__weakref__': <attribute '__weakref__' of 'A' objects>,\n",
       "              '__doc__': None})"
      ]
     },
     "execution_count": 4,
     "metadata": {},
     "output_type": "execute_result"
    }
   ],
   "source": [
    "class A():\n",
    "    name = \"abc\"\n",
    "    age = 18\n",
    "    \n",
    "A.__dict__"
   ]
  },
  {
   "cell_type": "code",
   "execution_count": 7,
   "metadata": {},
   "outputs": [
    {
     "data": {
      "text/plain": [
       "{}"
      ]
     },
     "execution_count": 7,
     "metadata": {},
     "output_type": "execute_result"
    }
   ],
   "source": [
    "class A():\n",
    "    name = \"abc\"\n",
    "    age = 18\n",
    "    \n",
    "A.__dict__\n",
    "\n",
    "# 实际化\n",
    "a = A()\n",
    "a.__dict__"
   ]
  },
  {
   "cell_type": "code",
   "execution_count": 8,
   "metadata": {},
   "outputs": [
    {
     "name": "stdout",
     "output_type": "stream",
     "text": [
      "abc\n"
     ]
    }
   ],
   "source": [
    "print(a.name)"
   ]
  },
  {
   "cell_type": "markdown",
   "metadata": {},
   "source": [
    "# 类和对象的成员分析\n",
    "- 类和对象都可以存储成员，成员可以归类所有，也可以归对象所有\n",
    "- 类存储成员时使用的是与类关联的一个对象\n",
    "- 独享存储成员时存储在当前对象中"
   ]
  },
  {
   "cell_type": "markdown",
   "metadata": {},
   "source": [
    "# 关于class中的__ init __ 和 __ str __\n",
    "- 在类的定义中，用户不要另外用双下划线开始和结束自己的定义方法\n",
    "- __ init __ 叫构造方法，它在创建一个对象时被自动调用，类似于赋予初始属性\n",
    "- __ str __ 是一个用户自定义方法，用于以字符串形式显示一个对象的当前状态"
   ]
  },
  {
   "cell_type": "code",
   "execution_count": 1,
   "metadata": {},
   "outputs": [
    {
     "name": "stdout",
     "output_type": "stream",
     "text": [
      "<class '__main__.Rectangle'>\n",
      "width:1\n",
      "height:1\n",
      "1\n",
      "4\n",
      "********************\n",
      "width:4\n",
      "height:5\n",
      "20\n",
      "18\n"
     ]
    }
   ],
   "source": [
    "# 类定义示例\n",
    "class Rectangle():\n",
    "    def __init__(self,width = 1,height = 1):\n",
    "        self._width = width\n",
    "        self._height = height\n",
    "    \n",
    "    def setwidth(self,width):\n",
    "        self._width = width\n",
    "        \n",
    "    def setheight(self,height):\n",
    "        self._height = height\n",
    "    \n",
    "    def getwidth(self):\n",
    "        return self._width\n",
    "    \n",
    "    def getheight(self):\n",
    "        return self._height\n",
    "    \n",
    "    def area(self):\n",
    "        return self._width * self._height\n",
    "    \n",
    "    def perimeter(self):\n",
    "        return 2 * (self._width + self._height)\n",
    "    \n",
    "    def __str__(self):\n",
    "        return (\"width:\"+str(self._width)+\"\\nheight:\"+str(self._height))\n",
    "    \n",
    "yangzheng = Rectangle()\n",
    "print(type(yangzheng))\n",
    "print(yangzheng)\n",
    "print(yangzheng.area())\n",
    "print(yangzheng.perimeter())\n",
    "print(\"*\" * 20)\n",
    "yangzheng.setwidth(4)\n",
    "yangzheng.setheight(5)\n",
    "print(yangzheng)\n",
    "print(yangzheng.area())\n",
    "print(yangzheng.perimeter())"
   ]
  },
  {
   "cell_type": "code",
   "execution_count": 10,
   "metadata": {
    "scrolled": true
   },
   "outputs": [
    {
     "name": "stdout",
     "output_type": "stream",
     "text": [
      "Enter the name:abcdefg\n",
      "Enter the midterm grade:50\n",
      "Enter the finalterm grade:30\n",
      "\n",
      "NAME                GRADE               \n",
      "abcdefg             可以退学\n"
     ]
    }
   ],
   "source": [
    "# use of class definition\n",
    "def main():\n",
    "    name = input(\"Enter the name:\")\n",
    "    midgrade = float(input(\"Enter the midterm grade:\"))\n",
    "    finalgrade = float(input(\"Enter the finalterm grade:\"))\n",
    "    student = LGstudent(name, midgrade, finalgrade)\n",
    "    print(\"\\n{0:<20}{1:<20}\".format(\"NAME\",\"GRADE\"))\n",
    "    print(\"{0:<20}\".format(name),end = \"\")\n",
    "    print(student)\n",
    "\n",
    "class LGstudent:\n",
    "    def __init__(self, name=\"\", midgrade = 0, finalgrade = 0, mid = 0.4):\n",
    "        self._name = name\n",
    "        self._midgrade = midgrade\n",
    "        self._finalgrade = finalgrade\n",
    "        self._mid = mid\n",
    "    \n",
    "    def setname(self, name):\n",
    "        self._name = name\n",
    "        \n",
    "    def setmidgrade(self, name):\n",
    "        self._midgrade = midgrade\n",
    "        \n",
    "    def setfinalgrade(self, name):\n",
    "        self._finalgrade = finalgrade\n",
    "    \n",
    "    def calcsemgrade(self):\n",
    "        average = self._midgrade * self._mid + self._finalgrade * (1 - self._mid)\n",
    "        if average >= 90:\n",
    "            return \"A\"\n",
    "        elif average >= 80:\n",
    "            return \"B\"\n",
    "        elif average >= 70:\n",
    "            return \"C\"\n",
    "        elif average >= 60:\n",
    "            return \"D\"\n",
    "        else:\n",
    "            return \"可以退学\"\n",
    "        \n",
    "    def __str__(self):\n",
    "        return self.calcsemgrade()\n",
    "    \n",
    "main()"
   ]
  },
  {
   "cell_type": "markdown",
   "metadata": {},
   "source": [
    "# 基类和子类\n",
    "- 子类不仅可以在所继承的父类中添加函数，也可以在其所继承的父类中增加属性\n",
    "    - 在这种情况下，子类必须先包含刻画父类属性的初始化方法，然后增加子类的属性，初始化方法的参数列表顺序是self，父类参数列表和添加子类新参数\n",
    "    - 语句的第一条如下：\n",
    "        - super().__ init __ (parentparameter1, ..., parentparameterN)"
   ]
  },
  {
   "cell_type": "code",
   "execution_count": null,
   "metadata": {},
   "outputs": [],
   "source": [
    "# 子类添加新属性\n",
    "class Student():\n",
    "    def __init__(self, name = \"\", midterm = 0, final = 0):\n",
    "        self._name = name\n",
    "        self._midterm = midterm\n",
    "        self._final = final\n",
    "    \n",
    "    def GetName(self):\n",
    "        return self._name\n",
    "    \n",
    "    def __str__(self):\n",
    "        return self._name + '\\t' + self.calcsemgrade\n",
    "\n",
    "# 在下面的PFstrdent类中添加一个新的参数来表示学生是全职还兼职，新增布尔值参数_fulltime\n",
    "class PFStudent(Student):\n",
    "    def __init__(self, name = \"\", midterm = 0, final = 0, fulltime = True):\n",
    "        # 导入父类的参数\n",
    "        super().__init__(name, midterm, final)\n",
    "        self._fulltime = fulltime\n",
    "        \n",
    "    def setfulltime(self, fulltime):\n",
    "        self._fulltime = fulltime\n",
    "        \n",
    "    def getfulltime(self):\n",
    "        return self._fulltime\n",
    "    \n",
    "    def calcsemgrade(self):\n",
    "        semgrade = 0.4 * self._midterm + 0.6 * self._final\n",
    "        if semgrade > 60:\n",
    "            return \"Pass\"\n",
    "        else:\n",
    "            return \"Fail\"\n",
    "    \n",
    "    def __str__(self):\n",
    "        "
   ]
  }
 ],
 "metadata": {
  "kernelspec": {
   "display_name": "Python 3",
   "language": "python",
   "name": "python3"
  },
  "language_info": {
   "codemirror_mode": {
    "name": "ipython",
    "version": 3
   },
   "file_extension": ".py",
   "mimetype": "text/x-python",
   "name": "python",
   "nbconvert_exporter": "python",
   "pygments_lexer": "ipython3",
   "version": "3.7.0"
  }
 },
 "nbformat": 4,
 "nbformat_minor": 2
}
