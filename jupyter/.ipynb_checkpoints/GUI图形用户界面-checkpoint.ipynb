{
 "cells": [
  {
   "cell_type": "markdown",
   "metadata": {},
   "source": [
    "# GUI图形用户界面"
   ]
  },
  {
   "cell_type": "code",
   "execution_count": 1,
   "metadata": {},
   "outputs": [],
   "source": [
    "from tkinter import * # 导入tkinter模块\n",
    "\n",
    "window = Tk()         # 创建Tk类的示例对象命名为window\n",
    "window.mainloop()     # mainloop函数将无限监听事件循环，直到单击退出"
   ]
  },
  {
   "cell_type": "markdown",
   "metadata": {},
   "source": [
    "## 按钮控件\n",
    "- padx和pady分别用于指定控件上下空白区域的大小\n",
    "- text和bg参数的设置可以调换位置\n",
    "- bg为背景颜色，fg为前景颜色（字体颜色）"
   ]
  },
  {
   "cell_type": "code",
   "execution_count": 2,
   "metadata": {},
   "outputs": [],
   "source": [
    "from tkinter import *\n",
    "window = Tk()\n",
    "window.title(\"Button\")\n",
    "ButtonCalculate = Button(window, text = \"Calculate\", bg = \"light blue\")    # 其中text和bg参数的设置可以调换位置\n",
    "ButtonCalculate.grid(padx = 75, pady = 15)\n",
    "window.mainloop()"
   ]
  },
  {
   "cell_type": "code",
   "execution_count": 1,
   "metadata": {},
   "outputs": [],
   "source": [
    "from tkinter import *\n",
    "def ChangeColor():\n",
    "    if btnCalculate[\"fg\"] == \"blue\":\n",
    "        btnCalculate[\"fg\"] = \"red\"\n",
    "    else:\n",
    "        btnCalculate[\"fg\"] = \"blue\"\n",
    "\n",
    "window = Tk()\n",
    "window.title(\"Button\")\n",
    "btnCalculate = Button(window, text = \"Calculate\", fg = \"blue\",\n",
    "                      command = ChangeColor)\n",
    "btnCalculate.grid(padx = 100, pady = 15)\n",
    "window.mainloop()"
   ]
  },
  {
   "cell_type": "markdown",
   "metadata": {},
   "source": [
    "## 标签控件\n",
    "- 标签控件也可添加背景颜色"
   ]
  },
  {
   "cell_type": "code",
   "execution_count": 3,
   "metadata": {},
   "outputs": [],
   "source": [
    "from tkinter import *\n",
    "\n",
    "window = Tk()\n",
    "window.title(\"Label\")\n",
    "lblPrincipal = Label(window, text = \"Principal:\", fg = \"red\",\n",
    "                     bg = \"light blue\", width = 20)\n",
    "lblPrincipal.grid(padx = 100, pady = 15)\n",
    "window.mainloop()"
   ]
  },
  {
   "cell_type": "markdown",
   "metadata": {},
   "source": [
    "## 输入控件\n",
    "- 在输入框中可以进行复制粘贴等操作\n",
    "- 和按钮控件不同，输入控件不能使用command参数绑定这个控件到某个事件触发的回调函数，然而可以使用bind方法实现这个功能。例如下面可以绑定鼠标右键到输入控件调用指定函数\n",
    "    - nameofEntryWidget.bind(\"< Button-3 >\", functionName)\n",
    "    - 在这种情况下，指定函数必须包含一个名为event的参数\n",
    "    - 在Button中使用command参数来执行函数时不需要添加event参数在函数中"
   ]
  },
  {
   "cell_type": "code",
   "execution_count": null,
   "metadata": {},
   "outputs": [],
   "source": [
    "from tkinter import *\n",
    "\n",
    "window = Tk()\n",
    "window.title(\"Entry Widget\")\n",
    "yangshuji = Entry(window, width = 20)\n",
    "yangshuji.grid(padx = 100, pady = 15)\n",
    "window.mainloop()"
   ]
  },
  {
   "cell_type": "code",
   "execution_count": null,
   "metadata": {},
   "outputs": [],
   "source": [
    "# 切换颜色\n",
    "## 在输入单词后，右键单击控件可以在蓝色和红色之间切换颜色\n",
    "from tkinter import *\n",
    "\n",
    "def ChangeColor(event):\n",
    "    if yangshuji[\"fg\"] == \"blue\":\n",
    "        yangshuji[\"fg\"] = \"red\"\n",
    "    else:\n",
    "        yangshuji[\"fg\"] = \"blue\"\n",
    "\n",
    "window = Tk()\n",
    "window.title(\"Entry Widget\")\n",
    "yangshuji = Entry(window, fg = \"blue\", bg = \"light blue\")\n",
    "yangshuji.grid(padx = 100, pady = 15)\n",
    "yangshuji.bind(\"<Button-3>\", ChangeColor)\n",
    "window.mainloop()"
   ]
  },
  {
   "cell_type": "markdown",
   "metadata": {},
   "source": [
    "### 提取数据\n",
    "- 从输入框控件提取数的标准方法是用下面语句创建一个字符串变量\n",
    "    - variableName = StringVar()\n",
    "- 同时在构造方法中假如一个参数textvariable = variableName\n",
    "- 利用variableName.get()得到输入框中的数据，variableName.set(\"setpart\")在输入框控件中设置具体字符和数字"
   ]
  },
  {
   "cell_type": "code",
   "execution_count": null,
   "metadata": {},
   "outputs": [],
   "source": [
    "from tkinter import *\n",
    "\n",
    "def ConvertToUpper(event):\n",
    "    yangshuji.set(yangshuji.get().upper())\n",
    "\n",
    "window = Tk()\n",
    "window.title(\"Entry Widget\")\n",
    "yangshuji = StringVar()                                     # 注意这里文本变量的名称和haha = Entry(）这部分名称是不同的\n",
    "haha = Entry(window, textvariable = yangshuji)              # haha代表的是整个输入框，variable只是haha中设置的一个文本变量参数\n",
    "haha.grid(padx = 100, pady = 15)\n",
    "haha.bind(\"<Button-3>\", ConvertToUpper)\n",
    "window.mainloop()"
   ]
  },
  {
   "cell_type": "markdown",
   "metadata": {},
   "source": [
    "### 只读输入控件\n",
    "- 添加参数state = \"readonly\"到构造方法中，就可以将输入框控件编程只读形式"
   ]
  },
  {
   "cell_type": "code",
   "execution_count": null,
   "metadata": {},
   "outputs": [],
   "source": [
    "from tkinter import *\n",
    "\n",
    "window = Tk()\n",
    "window.title(\"readonly entry widget\")\n",
    "yangshuji = StringVar()\n",
    "haha = Entry(window, width = 20, state = \"readonly\", textvariable = yangshuji)\n",
    "haha.grid(padx = 100, pady = 15)\n",
    "yangshuji.set(\"Hello World!\")\n",
    "window.mainloop()"
   ]
  },
  {
   "cell_type": "markdown",
   "metadata": {},
   "source": [
    "### 列表框控件\n",
    "- 列表框控件主要用于选择显示在垂直矩形框中的列表项，也可用于显示程序的运行结果\n",
    "- height属性设定了列表框一次显示的行数，width属性设定了每行显示在列表框的字符数，默认height和width属性值分别为10和20\n",
    "    - height简称h，表示列表框的列表项一次只显示h项\n",
    "    - 当列表内容超过h项时，最初只显示前h项，可以用< Tab >、< Page Down >、< Page Up >、< DownArrow >和< UpArrow >键，或者利用鼠标滚轮滚动显示列表中的剩余项\n",
    "- 向列表框控件设定和提取值方式和操作输入框控件类似\n",
    "    - 在实例化列表框控件前，定义variableName = StringVar()，但是要将输入框控件的textvariable改为listvariable\n",
    "    - 要设定列表框中的列表项，首先要创建一个列表（L），然后执行以下语句\n",
    "        - variableName.set(tuple(L))\n",
    "- 当用户单击列表框中的某一项时，<<ListboxSelect>> 事件被触发，语句listboxName.get(listboxName.curselection())将以字符串形式返回被选中的列表项的值"
   ]
  },
  {
   "cell_type": "code",
   "execution_count": null,
   "metadata": {},
   "outputs": [],
   "source": [
    "from tkinter import *\n",
    "\n",
    "def changeBackgroundColor(event):\n",
    "    haha[\"bg\"] = haha.get(haha.curselection())\n",
    "    print(haha.curselection())                       # 可以注意到此部分打印出的并不是直接的字符串形式\n",
    "    print(haha.get(haha.curselection()))             # 此部分返回的是直接的字符串形式\n",
    "    haha.selection_clear(0, END)                     # 添加此语句后被选中项的水平蓝色背景条将不会显示\n",
    "\n",
    "window = Tk()\n",
    "L = [\"red\", \"blue\", \"light blue\", \"orange\"]\n",
    "yangshuji = StringVar()\n",
    "haha = Listbox(window, width = 10, height = 5, listvariable = yangshuji)\n",
    "haha.grid(padx = 100, pady = 15)\n",
    "yangshuji.set(tuple(L))\n",
    "haha.bind(\"<<ListboxSelect>>\", changeBackgroundColor)\n",
    "\n",
    "window.mainloop()"
   ]
  },
  {
   "cell_type": "code",
   "execution_count": null,
   "metadata": {},
   "outputs": [],
   "source": [
    "# 改变列表内容，执行对列表内容改变的函数，例如排序\n",
    "from tkinter import *\n",
    "\n",
    "def sortItems(event):\n",
    "    L.sort()\n",
    "    yangshuji.set(tuple(L))\n",
    "\n",
    "window = Tk()\n",
    "L = [\"red\", \"blue\", \"light blue\", \"orange\"]\n",
    "yangshuji = StringVar()\n",
    "haha = Listbox(window, width = 10, height = 5, listvariable = yangshuji)\n",
    "haha.grid(padx = 100, pady = 15)\n",
    "yangshuji.set(tuple(L))\n",
    "haha.bind(\"<Button-3>\", sortItems)\n",
    "\n",
    "window.mainloop()"
   ]
  },
  {
   "cell_type": "markdown",
   "metadata": {},
   "source": [
    "### 滚动条控件"
   ]
  },
  {
   "cell_type": "code",
   "execution_count": null,
   "metadata": {},
   "outputs": [],
   "source": [
    "from tkinter import *\n",
    "\n",
    "window = Tk()\n",
    "window.title(\"Scrollbar\")\n",
    "haha = Scrollbar(window, orient = VERTICAL)\n",
    "haha.grid(padx = 100, pady = 15)\n",
    "\n",
    "window.mainloop()"
   ]
  },
  {
   "cell_type": "markdown",
   "metadata": {},
   "source": [
    "### 注释\n",
    "- < Button-1 >表示鼠标左键触发事件\n",
    "- 在只读输入框控件将忽略bg背景色属性的设定\n",
    "- 可以将一些代码合并\n",
    "    - Label(window, text = \"Principal:\").grid(padx = 100, pady = 15)\n",
    "        - haha = Label(window, text = \"Principal:\")\n",
    "        - haha.grid(padx = 100, pady = 15)\n",
    "- 在标签控件和按钮控件中，文本可以包含多行"
   ]
  },
  {
   "cell_type": "code",
   "execution_count": null,
   "metadata": {},
   "outputs": [],
   "source": [
    "from tkinter import *\n",
    "\n",
    "window = Tk()\n",
    "haha = Button(window, text = \"Push\\nMe\")\n",
    "haha.grid(padx = 75)\n",
    "\n",
    "window.mainloop()"
   ]
  },
  {
   "cell_type": "markdown",
   "metadata": {},
   "source": [
    "### 一些例子"
   ]
  },
  {
   "cell_type": "code",
   "execution_count": null,
   "metadata": {},
   "outputs": [],
   "source": [
    "from tkinter import *\n",
    "\n",
    "example = Tk()\n",
    "example.title(\"Label\")\n",
    "haha = Label(example, text = \"Future value:\").grid(padx = 100, pady = 15)\n",
    "\n",
    "example.mainloop()"
   ]
  },
  {
   "cell_type": "code",
   "execution_count": null,
   "metadata": {},
   "outputs": [],
   "source": [
    "from tkinter import *\n",
    "\n",
    "example = Tk()\n",
    "example.title(\"Label\")\n",
    "yangzheng = StringVar()\n",
    "haha = Entry(example, width = 2, state = \"readonly\",\n",
    "             bg = \"light blue\", textvariable = yangzheng)     # 运行可见，其中bg参数的设置并不起作用\n",
    "haha.grid(padx = 100, pady = 15)\n",
    "yangzheng.set(\"HI\")\n",
    "\n",
    "example.mainloop()"
   ]
  },
  {
   "cell_type": "markdown",
   "metadata": {},
   "source": [
    "## 网格布局管理器\n",
    "- tkinter中有三种布局管理器——grid、pack和place\n",
    "- pack布局管理器也像grid一样容易使用，但不如其灵活，place布局管理器能完全控制控件位置，但编写复杂\n",
    "- grid布局管理器的行和列的值并不需要指定，grid布局管理器将自动根据放入grid中的控件位置来决定其行列。此外，grid管理器每列宽度和每行的高度会自动调整以适应其所包含的所有控件的宽度、长度和空白边界"
   ]
  },
  {
   "cell_type": "markdown",
   "metadata": {},
   "source": [
    "- padx = r：在控件左右分别加入r个像素的空白\n",
    "- pady = r：在控件上下分别加入r个像素的空白\n",
    "- padx = (r,s)：在控件左边加入r个像素空白，在右边加入s个像素的空白\n",
    "- pady = (r,s)：在控件上边加入r个像素空白，在下边加入s个像素的空白\n",
    "## sticky属性\n",
    "- widgetName.grid(row = m, column = n, sticky = letter)\n",
    "    - 这里letter为N（顶部）、S（底部）、E（右侧）和W（左侧）四个字母中的一个\n",
    "    - 假如不设置sticky属性参数，则默认为居中布局\n",
    "    - sticky属性可以两两组合，或者四个字母组合在一起\n",
    "        - sticky = NS可以将控件的南北相连\n",
    "        - sticky = NW/NE/SE/SW会将控件放在单元格的一个角上\n",
    "        - sticky = NSEW可以使得控件在水平和垂直方向都拉伸，填充整个单元格"
   ]
  },
  {
   "cell_type": "code",
   "execution_count": 1,
   "metadata": {},
   "outputs": [],
   "source": [
    "from tkinter import *\n",
    "\n",
    "example = Tk()\n",
    "example.title(\"YANGZHENG\")\n",
    "haha = Label(example, text = \"Principal:\")\n",
    "haha.grid(row = 0, column = 0, sticky = E, pady = 5)\n",
    "haha2 = Entry(example)\n",
    "haha2.grid(row = 0, column =1, sticky = EW, pady = 5)\n",
    "haha3 = Label(example, text = \"Interest rate(as percent):\")\n",
    "haha3.grid(row = 1, column = 0, sticky = E, pady = 5)\n",
    "haha4 = Entry(example, width = 5)\n",
    "haha4.grid(row = 1, column = 1, sticky = W, pady = 5)\n",
    "haha5 = Label(example, text = \"Number of years:\")\n",
    "haha5.grid(row = 2, column = 0, sticky = E, pady = 5)\n",
    "haha6 = Entry(example, width = 5)\n",
    "haha6.grid(row = 2, column = 1, sticky = W, pady = 5)\n",
    "haha7 = Button(example, text = \"Calculate Monthly Payment\")\n",
    "haha7.grid(row = 3, column = 0, columnspan = 2, pady = 5)\n",
    "haha8 = Label(example, text = \"Monthly Payment:\")\n",
    "haha8.grid(row = 4, column = 0, sticky = E, pady = 5)\n",
    "yangzheng = StringVar()\n",
    "haha9 = Entry(example, state = \"readonly\", textvariable = yangzheng)\n",
    "haha9.grid(row = 4, column = 1, sticky = W, pady = 5)\n",
    "yangzheng.set(\"$\" + \"123456\")\n",
    "\n",
    "example.mainloop()"
   ]
  },
  {
   "cell_type": "markdown",
   "metadata": {},
   "source": [
    "## 小结\n",
    "- Button\n",
    "    - 可以使用command\n",
    "- Label\n",
    "    - state = \"readonly\"\n",
    "    - textvariable = variableName\n",
    "- Entry\n",
    "- Listbox\n",
    "    - listvariable\n",
    "- Scorllbar\n",
    "    - 添加参数orient = VERTICAL"
   ]
  },
  {
   "cell_type": "code",
   "execution_count": null,
   "metadata": {},
   "outputs": [],
   "source": [
    "from tkinter import *\n",
    "\n",
    "window = Tk()\n",
    "window.title(\"New England\")\n",
    "yangzheng = Scrollbar(window, orient = VERTICAL)\n",
    "yangzheng.grid(row = 0, column = 2, rowspan = 4, padx = (0, 100), pady = 5, sticky = NS)\n",
    "stateList = [\"Connecticut\", \"abc\", \"cde\", \"asdf\", \"Maine\", \"Massachusetts\", \"New Hampshire\", \"Rhode Island\", \"Vermont\"]\n",
    "yangshuji = StringVar()\n",
    "yang = Listbox(window, width = 14, height = 4, listvariable = yangshuji, yscrollcommand = yangzheng.set)\n",
    "yang.grid(row = 0, column = 1, rowspan = 4, padx = (100, 0), pady = 5, sticky = E)\n",
    "yangshuji.set(tuple(stateList))\n",
    "yangzheng[\"command\"] = yang.yview()\n",
    "\n",
    "window.mainloop()"
   ]
  },
  {
   "cell_type": "code",
   "execution_count": null,
   "metadata": {},
   "outputs": [],
   "source": [
    "from tkinter import *\n",
    "\n",
    "def findLargest():\n",
    "    L = []\n",
    "    L.append(eval(entnum1.get()))\n",
    "    L.append(eval(entnum2.get()))\n",
    "    L.append(eval(entnum3.get()))\n",
    "    Largestnum.set(max(L))\n",
    "\n",
    "window = Tk()\n",
    "window.title(\"Largest Number\")\n",
    "Label(window, text = \"First Number:\").grid(row = 0, column = 0, padx = (40,0), pady = 5, sticky = E)\n",
    "num1 = StringVar()\n",
    "entnum1 = Entry(window, width = 8, textvariable = num1)\n",
    "entnum1.grid(row = 0, column = 1, padx = (0,40), pady = 5, sticky = W)\n",
    "Label(window, text = \"Second Number:\").grid(row = 1, column = 0, padx = (40,0), pady = 5, sticky = E)\n",
    "num2 = StringVar()\n",
    "entnum2 = Entry(window, width = 8, textvariable = num2)\n",
    "entnum2.grid(row = 1, column = 1, padx = (0,40), pady = 5, sticky = W)\n",
    "Label(window, text = \"Third Number:\").grid(row = 2, column = 0, padx = (40,0), pady = 5, sticky = E)\n",
    "num3 = StringVar()\n",
    "entnum3 = Entry(window, width = 8, textvariable = num3)\n",
    "entnum3.grid(row = 2, column = 1, padx = (0,40), pady = 5, sticky = W)\n",
    "yang_button = Button(window, text = \"Find the Largest Number\", command = findLargest)\n",
    "yang_button.grid(row = 3, column = 0, columnspan = 2, pady = 5)\n",
    "Label(window, text = \"Largest number:\").grid(row = 4, column = 0, padx = (40,0), pady = 5, sticky = E)\n",
    "Largestnum = StringVar()\n",
    "yang_Largest = Entry(window, state = \"readonly\", width = 8, textvariable = Largestnum)\n",
    "yang_Largest.grid(row = 4, column = 1, padx = (0,40), pady = 5, sticky = W)\n",
    "\n",
    "window.mainloop()"
   ]
  },
  {
   "cell_type": "code",
   "execution_count": null,
   "metadata": {},
   "outputs": [],
   "source": [
    "from tkinter import *\n",
    "\n",
    "def choice():\n",
    "    if yang_time.get(yang_time.curselection()) == \"annually\":\n",
    "        yangzheng_invest.set(10000 * ((1 + yang_rate.get(yang_rate.curselection()) / 1) ** (5 * 1)))\n",
    "    elif yang_time.get(yang_time.curselection()) == \"semi-annyally\":\n",
    "        yangzheng_invest.set(10000 * ((1 + yang_rate.get(yang_rate.curselection()) / 2) ** (5 * 2)))\n",
    "    elif yang_time.get(yang_time.curselection()) == \"quauterly\":\n",
    "        yangzheng_invest.set(10000 * ((1 + yang_rate.get(yang_rate.curselection()) / 4) ** (5 * 4)))\n",
    "    elif yang_time.get(yang_time.curselection()) == \"monthly\":\n",
    "        yangzheng_invest.set(10000 * ((1 + yang_rate.get(yang_rate.curselection()) / 12) ** (5 * 12)))\n",
    "    else:\n",
    "        yangzheng_invest.set(10000 * ((1 + yang_rate.get(yang_rate.curselection()) / 52) ** (5 * 52)))\n",
    "\n",
    "window = Tk()\n",
    "window.title(\"Investment\")\n",
    "Label(window, text = \"Invest $10,000\").grid(row = 0, column = 0, columnspan = 3, pady = 5)\n",
    "Label(window, text = \"Interest\\nrate:\").grid(row = 1, column = 0, padx = 5, pady = 5)\n",
    "Label(window, text = \"Compound\\nperiods:\").grid(row = 1, column = 1, padx = 0, pady = 5)\n",
    "listofrate = [2,2.5,3,3.5,4]\n",
    "yangzheng_rate = StringVar()\n",
    "yang_rate = Listbox(window, width = 4, height = 5, listvariable = yangzheng_rate)\n",
    "yang_rate.grid(row = 2, column = 0, rowspan = 20, padx = 5, pady = 0)\n",
    "yangzheng_rate.set(tuple(listofrate))\n",
    "yang_rate.bind(\"<<ListboxSelect>>\", choice)\n",
    "listoftime = [\"annually\", \"semi-annually\", \"quarterly\", \"monthly\", \"weekly\"]\n",
    "yangzheng_time = StringVar()\n",
    "yang_time = Listbox(window, width = 15, height = 5, listvariable = yangzheng_time)\n",
    "yang_time.grid(row = 2, column = 1, rowspan = 20, padx = 0, pady = 0)\n",
    "yangzheng_time.set(tuple(listoftime))\n",
    "yang_time.bind(\"<<ListboxSelect>>\", choice)\n",
    "yang_button = Button(window, text = \"Calculate\\nAmount\\nAfter 5\\nYears\", command = choice)\n",
    "yang_button.grid(row = 2, column = 2, padx = 0)\n",
    "Label(window, text = \"Amount after 5 years:\").grid(row = 5, column = 0, columnspan = 2)\n",
    "yangzheng_invest = StringVar()\n",
    "yang_invest = Entry(window, textvariable = yangzheng_invest, state = \"readonly\")\n",
    "yang_invest.grid(row = 5, column = 2, sticky = EW, pady = 5)\n",
    "\n",
    "window.mainloop()"
   ]
  }
 ],
 "metadata": {
  "kernelspec": {
   "display_name": "Python 3",
   "language": "python",
   "name": "python3"
  },
  "language_info": {
   "codemirror_mode": {
    "name": "ipython",
    "version": 3
   },
   "file_extension": ".py",
   "mimetype": "text/x-python",
   "name": "python",
   "nbconvert_exporter": "python",
   "pygments_lexer": "ipython3",
   "version": "3.7.0"
  }
 },
 "nbformat": 4,
 "nbformat_minor": 2
}
