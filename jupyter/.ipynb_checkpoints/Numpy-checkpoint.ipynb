{
 "cells": [
  {
   "cell_type": "markdown",
   "metadata": {},
   "source": [
    "# 数组创建函数\n",
    "- array：将输入的数据（列表、元组、数组或其他序列类型）转换为ndarray，默认直接复制输入数据\n",
    "- asarray：将输入转换为ndarray，如果输入本身就是一个ndarray就不进行复制\n",
    "- arange：类似于range函数，返回的是一个ndarray\n",
    "- ones/ones_like：根据指定的形状和dtype创建一个元素全为1的数组。ones_like以另一个数组为参照，并根据其形状和dtype创建一个全1数组\n",
    "- empty/empty_like：创建数组，只分配内存空间但不填充任何值\n",
    "- eye/identity：创建一个N维的单位矩阵"
   ]
  },
  {
   "cell_type": "code",
   "execution_count": 42,
   "metadata": {},
   "outputs": [
    {
     "name": "stdout",
     "output_type": "stream",
     "text": [
      "[0. 0. 0. 0. 0.]\n",
      "<class 'numpy.ndarray'>\n",
      "1\n",
      "(5,)\n",
      "float64\n",
      "********************\n",
      "[1 2 3 4 5]\n",
      "<class 'numpy.ndarray'>\n",
      "1\n",
      "(5,)\n",
      "int32\n",
      "********************\n",
      "[[1 2 3]\n",
      " [4 5 6]]\n",
      "<class 'numpy.ndarray'>\n",
      "2\n",
      "(2, 3)\n",
      "int32\n",
      "********************\n"
     ]
    },
    {
     "data": {
      "text/plain": [
       "array([[0., 0., 0., 0., 0., 0.],\n",
       "       [0., 0., 0., 0., 0., 0.],\n",
       "       [0., 0., 0., 0., 0., 0.]])"
      ]
     },
     "execution_count": 42,
     "metadata": {},
     "output_type": "execute_result"
    }
   ],
   "source": [
    "import numpy as np\n",
    "arr1 = np.zeros(5)\n",
    "print(arr1)\n",
    "print(type(arr1))\n",
    "print(arr1.ndim)              # 查看数组的维数\n",
    "print(arr1.shape)             # 查看数组的“形状”\n",
    "print(arr1.dtype)             # 查看数组中数据的类型\n",
    "\n",
    "print(\"*\" * 20)\n",
    "\n",
    "a = [1,2,3,4,5]\n",
    "arr2 = np.array(a)\n",
    "print(arr2)\n",
    "print(type(arr2))\n",
    "print(arr2.ndim)\n",
    "print(arr2.shape)\n",
    "print(arr2.dtype)\n",
    "\n",
    "print(\"*\" * 20)\n",
    "\n",
    "b = [[1,2,3], [4,5,6]]\n",
    "arr3 = np.array(b)\n",
    "print(arr3)\n",
    "print(type(arr3))\n",
    "print(arr3.ndim)\n",
    "print(arr3.shape)\n",
    "print(arr3.dtype)\n",
    "\n",
    "print(\"*\" * 20)\n",
    "\n",
    "np.zeros((3,6))"
   ]
  },
  {
   "cell_type": "code",
   "execution_count": 48,
   "metadata": {},
   "outputs": [
    {
     "data": {
      "text/plain": [
       "array([[[3.42450058e-312, 3.16202013e-322],\n",
       "        [0.00000000e+000, 0.00000000e+000],\n",
       "        [0.00000000e+000, 1.00606403e-070]],\n",
       "\n",
       "       [[1.16436563e+165, 3.54206536e-033],\n",
       "        [2.21757775e-056, 5.94220227e-038],\n",
       "        [1.77496771e+160, 1.05118866e-046]]])"
      ]
     },
     "execution_count": 48,
     "metadata": {},
     "output_type": "execute_result"
    }
   ],
   "source": [
    "import numpy as np\n",
    "np.empty((2,3,2))          # np.empty不会产生全为0的数组，很多情况下，返回的都是一些未初始化的垃圾值"
   ]
  },
  {
   "cell_type": "markdown",
   "metadata": {},
   "source": [
    "- 可以通过ndarray的astype方法来转换其dtype"
   ]
  },
  {
   "cell_type": "code",
   "execution_count": 9,
   "metadata": {},
   "outputs": [
    {
     "name": "stdout",
     "output_type": "stream",
     "text": [
      "int32\n"
     ]
    },
    {
     "data": {
      "text/plain": [
       "dtype('float64')"
      ]
     },
     "execution_count": 9,
     "metadata": {},
     "output_type": "execute_result"
    }
   ],
   "source": [
    "import numpy as np\n",
    "\n",
    "arr = np.array([1,2,3,4,5])\n",
    "print(arr.dtype)\n",
    "\n",
    "float_arr = arr.astype(np.float64)\n",
    "float_arr.dtype"
   ]
  },
  {
   "cell_type": "code",
   "execution_count": 6,
   "metadata": {},
   "outputs": [
    {
     "data": {
      "text/plain": [
       "array([ 1,  2, -4,  5])"
      ]
     },
     "execution_count": 6,
     "metadata": {},
     "output_type": "execute_result"
    }
   ],
   "source": [
    "# 若将浮点型数据转换为整型的，则小数部分将会被截断\n",
    "import numpy as np\n",
    "\n",
    "arr = np.array([1.2, 2.3, -4.4, 5.5534])\n",
    "int_arr = arr.astype(np.int32)\n",
    "int_arr"
   ]
  },
  {
   "cell_type": "code",
   "execution_count": 8,
   "metadata": {},
   "outputs": [
    {
     "data": {
      "text/plain": [
       "array([ 1.23, -9.5 , 24.  ])"
      ]
     },
     "execution_count": 8,
     "metadata": {},
     "output_type": "execute_result"
    }
   ],
   "source": [
    "# 若某字符串数组表示的全是数字，也可以用astype将其转换为数值形式\n",
    "import numpy as np\n",
    "\n",
    "numeric_strings = np.array([\"1.23\", \"-9.5\", \"24\"])\n",
    "float_arr = numeric_strings.astype(float)                  # 这里使用的是float，而非具体指定其形式，numpy会根据内容分配等价的dtype上\n",
    "float_arr"
   ]
  },
  {
   "cell_type": "code",
   "execution_count": 20,
   "metadata": {},
   "outputs": [
    {
     "data": {
      "text/plain": [
       "array([0, 1, 2, 3, 4, 5, 6, 7, 8, 9])"
      ]
     },
     "execution_count": 20,
     "metadata": {},
     "output_type": "execute_result"
    }
   ],
   "source": [
    "# dtype的另一种用法\n",
    "import numpy as np\n",
    "\n",
    "int_arr = np.arange(10)\n",
    "float_arr = np.array([1.2, 0.344, 23.234], dtype = np.float64)        # 可以用此方法指定所创建数组的元素类型\n",
    "int_arr.astype(float_arr.dtype)\n",
    "int_arr2 = int_arr\n",
    "int_arr2"
   ]
  },
  {
   "cell_type": "markdown",
   "metadata": {},
   "source": [
    "# 数组的内容修改\n",
    "- numpy中对数组内容进行修改，都会直接反应到原数组上\n",
    "- 若想要得到的是ndarray切片的一份副本而非视图，就需要显式的进行复制操作\n",
    "    例如：arr[5:8].copy()"
   ]
  },
  {
   "cell_type": "markdown",
   "metadata": {},
   "source": [
    "# 布尔型索引"
   ]
  },
  {
   "cell_type": "code",
   "execution_count": 1,
   "metadata": {
    "scrolled": true
   },
   "outputs": [
    {
     "name": "stdout",
     "output_type": "stream",
     "text": [
      "[ True False False  True False False False]\n",
      "[[ 0  1  2  3]\n",
      " [12 13 14 15]]\n",
      "[ 3 15]\n",
      "[[ 2  3]\n",
      " [14 15]]\n"
     ]
    }
   ],
   "source": [
    "import numpy as np\n",
    "names = np.array([\"Bob\", \"Joe\", \"Will\", \"Bob\", \"Will\", \"Joe\", \"Joe\"])\n",
    "data = np.arange(28).reshape((7,4))\n",
    "print(names == \"Bob\")\n",
    "print(data[names == \"Bob\"])\n",
    "print(data[names == \"Bob\", 3])\n",
    "print(data[names == \"Bob\", 2:])"
   ]
  },
  {
   "cell_type": "code",
   "execution_count": 3,
   "metadata": {},
   "outputs": [
    {
     "name": "stdout",
     "output_type": "stream",
     "text": [
      "[[ 0.0357944  -1.94570355  0.90641333 -0.66279834]\n",
      " [ 1.20504437 -0.51224477 -0.87102946  0.05993234]\n",
      " [-0.15967717 -0.79550382 -0.43488206 -1.25550323]\n",
      " [-0.13560845  1.69362283 -0.32656467 -1.1022595 ]\n",
      " [ 0.01879409  0.55601123 -0.86532093 -2.79497816]\n",
      " [ 1.17905221  1.46641746  0.61076371  0.23421291]\n",
      " [-0.242522    0.14913877 -0.04419354  0.33670689]]\n",
      "********************\n",
      "[[0.0357944  0.         0.90641333 0.        ]\n",
      " [1.20504437 0.         0.         0.05993234]\n",
      " [0.         0.         0.         0.        ]\n",
      " [0.         1.69362283 0.         0.        ]\n",
      " [0.01879409 0.55601123 0.         0.        ]\n",
      " [1.17905221 1.46641746 0.61076371 0.23421291]\n",
      " [0.         0.14913877 0.         0.33670689]]\n"
     ]
    }
   ],
   "source": [
    "import numpy as np\n",
    "names = np.array([\"Bob\", \"Joe\", \"Will\", \"Bob\", \"Will\", \"Joe\", \"Joe\"])\n",
    "data = np.random.randn(7,4)\n",
    "print(data)\n",
    "print(\"*\" * 20)\n",
    "data[data < 0] = 0\n",
    "print(data)"
   ]
  },
  {
   "cell_type": "markdown",
   "metadata": {},
   "source": [
    "- 在Python的numpy库中，逻辑and和or在布尔型数组中是无效的"
   ]
  },
  {
   "cell_type": "markdown",
   "metadata": {},
   "source": [
    "# 花式索引\n",
    "- 为了以特定顺序选取行子集，只需传入一个用于指定顺序的整数列表或ndarray即可"
   ]
  },
  {
   "cell_type": "code",
   "execution_count": 4,
   "metadata": {},
   "outputs": [
    {
     "name": "stdout",
     "output_type": "stream",
     "text": [
      "[[0. 0. 0. 0.]\n",
      " [1. 1. 1. 1.]\n",
      " [2. 2. 2. 2.]\n",
      " [3. 3. 3. 3.]\n",
      " [4. 4. 4. 4.]\n",
      " [5. 5. 5. 5.]\n",
      " [6. 6. 6. 6.]\n",
      " [7. 7. 7. 7.]]\n",
      "********************\n",
      "[[4. 4. 4. 4.]\n",
      " [3. 3. 3. 3.]\n",
      " [0. 0. 0. 0.]\n",
      " [6. 6. 6. 6.]]\n"
     ]
    }
   ],
   "source": [
    "import numpy as np\n",
    "arr = np.empty((8,4))\n",
    "for i in range(8):\n",
    "    arr[i] = i\n",
    "print(arr)\n",
    "print(\"*\" * 20)\n",
    "print(arr[[4,3,0,6]])"
   ]
  },
  {
   "cell_type": "code",
   "execution_count": 5,
   "metadata": {},
   "outputs": [
    {
     "name": "stdout",
     "output_type": "stream",
     "text": [
      "[[1. 1. 1. 1.]\n",
      " [2. 2. 2. 2.]\n",
      " [3. 3. 3. 3.]\n",
      " [4. 4. 4. 4.]\n",
      " [5. 5. 5. 5.]\n",
      " [6. 6. 6. 6.]\n",
      " [7. 7. 7. 7.]\n",
      " [8. 8. 8. 8.]]\n",
      "********************\n",
      "[[5. 5. 5. 5.]\n",
      " [4. 4. 4. 4.]\n",
      " [1. 1. 1. 1.]\n",
      " [7. 7. 7. 7.]]\n"
     ]
    }
   ],
   "source": [
    "import numpy as np\n",
    "arr = np.empty((8,4))\n",
    "for i in range(8):\n",
    "    arr[i] = i + 1\n",
    "print(arr)\n",
    "print(\"*\" * 20)\n",
    "print(arr[[4,3,0,6]])"
   ]
  },
  {
   "cell_type": "code",
   "execution_count": 6,
   "metadata": {},
   "outputs": [
    {
     "name": "stdout",
     "output_type": "stream",
     "text": [
      "[[0. 0. 0. 0.]\n",
      " [1. 1. 1. 1.]\n",
      " [2. 2. 2. 2.]\n",
      " [3. 3. 3. 3.]\n",
      " [4. 4. 4. 4.]\n",
      " [5. 5. 5. 5.]\n",
      " [6. 6. 6. 6.]\n",
      " [7. 7. 7. 7.]]\n",
      "********************\n",
      "[[7. 7. 7. 7.]\n",
      " [5. 5. 5. 5.]\n",
      " [3. 3. 3. 3.]]\n"
     ]
    }
   ],
   "source": [
    "import numpy as np\n",
    "arr = np.empty((8,4))\n",
    "for i in range(8):\n",
    "    arr[i] = i\n",
    "print(arr)\n",
    "print(\"*\" * 20)\n",
    "print(arr[[-1,-3,-5]])"
   ]
  },
  {
   "cell_type": "code",
   "execution_count": 8,
   "metadata": {},
   "outputs": [
    {
     "name": "stdout",
     "output_type": "stream",
     "text": [
      "[[ 0  1  2  3]\n",
      " [ 4  5  6  7]\n",
      " [ 8  9 10 11]\n",
      " [12 13 14 15]\n",
      " [16 17 18 19]\n",
      " [20 21 22 23]\n",
      " [24 25 26 27]\n",
      " [28 29 30 31]]\n"
     ]
    }
   ],
   "source": [
    "# 利用reshape来重新排列创建的数组\n",
    "import numpy as np\n",
    "arr = np.arange(32).reshape((8,4))\n",
    "print(arr)"
   ]
  },
  {
   "cell_type": "code",
   "execution_count": 13,
   "metadata": {},
   "outputs": [
    {
     "name": "stdout",
     "output_type": "stream",
     "text": [
      "[ 4 23 29 10]\n"
     ]
    }
   ],
   "source": [
    "# 对于以下的程序，选出的元素为（1,0）、（5,3）、（7,1）和（2，2），而非所想的四行四列\n",
    "print(arr[[1,5,7,2],[0,3,1,2]])"
   ]
  },
  {
   "cell_type": "code",
   "execution_count": 10,
   "metadata": {},
   "outputs": [
    {
     "data": {
      "text/plain": [
       "array([[ 4,  7,  5,  6],\n",
       "       [20, 23, 21, 22],\n",
       "       [28, 31, 29, 30],\n",
       "       [ 8, 11,  9, 10]])"
      ]
     },
     "execution_count": 10,
     "metadata": {},
     "output_type": "execute_result"
    }
   ],
   "source": [
    "# 下面是得到想要结果的一种方法\n",
    "arr[[1,5,7,2]][:, [0,3,1,2]]"
   ]
  },
  {
   "cell_type": "code",
   "execution_count": 11,
   "metadata": {
    "scrolled": true
   },
   "outputs": [
    {
     "name": "stdout",
     "output_type": "stream",
     "text": [
      "[[ 4  7  5  6]\n",
      " [20 23 21 22]\n",
      " [28 31 29 30]\n",
      " [ 8 11  9 10]]\n"
     ]
    }
   ],
   "source": [
    "# 另一个方法为使用np.ix_函数，它可以将两个一维整数数组转换成一个用于选取方形区域的索引器\n",
    "print(arr[np.ix_([1,5,7,2], [0,3,1,2])])"
   ]
  },
  {
   "cell_type": "markdown",
   "metadata": {},
   "source": [
    "# 数组转置和轴对换"
   ]
  },
  {
   "cell_type": "code",
   "execution_count": 14,
   "metadata": {},
   "outputs": [
    {
     "name": "stdout",
     "output_type": "stream",
     "text": [
      "[[ 0  1  2  3  4]\n",
      " [ 5  6  7  8  9]\n",
      " [10 11 12 13 14]]\n",
      "********************\n",
      "[[ 0  5 10]\n",
      " [ 1  6 11]\n",
      " [ 2  7 12]\n",
      " [ 3  8 13]\n",
      " [ 4  9 14]]\n"
     ]
    }
   ],
   "source": [
    "import numpy as np\n",
    "arr = np.arange(15).reshape((3,5))\n",
    "print(arr)\n",
    "print(\"*\" * 20)\n",
    "print(arr.T)"
   ]
  },
  {
   "cell_type": "code",
   "execution_count": null,
   "metadata": {},
   "outputs": [],
   "source": []
  }
 ],
 "metadata": {
  "kernelspec": {
   "display_name": "Python 3",
   "language": "python",
   "name": "python3"
  },
  "language_info": {
   "codemirror_mode": {
    "name": "ipython",
    "version": 3
   },
   "file_extension": ".py",
   "mimetype": "text/x-python",
   "name": "python",
   "nbconvert_exporter": "python",
   "pygments_lexer": "ipython3",
   "version": "3.7.0"
  }
 },
 "nbformat": 4,
 "nbformat_minor": 2
}
