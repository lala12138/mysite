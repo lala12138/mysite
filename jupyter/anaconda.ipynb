{
 "cells": [
  {
   "cell_type": "markdown",
   "metadata": {
    "collapsed": true
   },
   "source": [
    "# anaconda基本使用\n",
    "- anaconda主要是一个虚拟环境管理器，还是一个安装包管理器\n",
    "- conda list: 显示anaconda安装的包\n",
    "- conda env list：显示anaconda的虚拟环境列表\n",
    "- conda creat -n xxx python=3.7:创建Python版本为3.7的虚拟环境，名称为xxx"
   ]
  },
  {
   "cell_type": "code",
   "execution_count": null,
   "metadata": {},
   "outputs": [],
   "source": []
  }
 ],
 "metadata": {
  "kernelspec": {
   "display_name": "Python 2",
   "language": "python",
   "name": "python2"
  },
  "language_info": {
   "codemirror_mode": {
    "name": "ipython",
    "version": 2
   },
   "file_extension": ".py",
   "mimetype": "text/x-python",
   "name": "python",
   "nbconvert_exporter": "python",
   "pygments_lexer": "ipython2",
   "version": "2.7.6"
  }
 },
 "nbformat": 4,
 "nbformat_minor": 0
}
